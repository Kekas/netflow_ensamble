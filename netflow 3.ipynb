{
 "cells": [
  {
   "cell_type": "code",
   "execution_count": 1,
   "id": "2ae06b13",
   "metadata": {},
   "outputs": [],
   "source": [
    "%load_ext autoreload\n",
    "%autoreload 2\n",
    "\n",
    "import pandas as pd\n",
    "import clustering_based_anomaly_detection as clustering\n",
    "import GMM_based_anomaly_detection as gmm\n",
    "import sketch_based_anomaly_detection as sketch\n",
    "import simple_classifier_utils\n",
    "import utilies\n",
    "from IPython.display import HTML, display\n",
    "from tabulate import tabulate"
   ]
  },
  {
   "cell_type": "markdown",
   "id": "5c96e096",
   "metadata": {},
   "source": [
    "Загружаем тестовые данные. В данном примере были отобраны тестовые данные трафика netflow за неделю."
   ]
  },
  {
   "cell_type": "code",
   "execution_count": 2,
   "id": "97ccdcfe",
   "metadata": {},
   "outputs": [],
   "source": [
    "ES_DATA_PATH = 'dataset/'\n",
    "ES_DATA_FILE = '2022-04-06_day'\n",
    "df = pd.read_csv(ES_DATA_PATH + ES_DATA_FILE + '.csv', index_col=0)\n",
    "private_ip_set = utilies.get_private_ips(df)\n",
    "df.timestamp = pd.to_datetime(df.timestamp)"
   ]
  },
  {
   "cell_type": "markdown",
   "id": "91f5a2ac",
   "metadata": {},
   "source": [
    "Пример формата входных данных:"
   ]
  },
  {
   "cell_type": "code",
   "execution_count": 3,
   "id": "349ae4f5",
   "metadata": {},
   "outputs": [
    {
     "data": {
      "text/html": [
       "<div>\n",
       "<style scoped>\n",
       "    .dataframe tbody tr th:only-of-type {\n",
       "        vertical-align: middle;\n",
       "    }\n",
       "\n",
       "    .dataframe tbody tr th {\n",
       "        vertical-align: top;\n",
       "    }\n",
       "\n",
       "    .dataframe thead th {\n",
       "        text-align: right;\n",
       "    }\n",
       "</style>\n",
       "<table border=\"1\" class=\"dataframe\">\n",
       "  <thead>\n",
       "    <tr style=\"text-align: right;\">\n",
       "      <th></th>\n",
       "      <th>timestamp</th>\n",
       "      <th>in_bytes</th>\n",
       "      <th>ipv4_src</th>\n",
       "      <th>ipv4_dst</th>\n",
       "      <th>in_pkts</th>\n",
       "      <th>l4_src_port</th>\n",
       "      <th>l4_dst_port</th>\n",
       "      <th>ip_protocol_version</th>\n",
       "      <th>protocol</th>\n",
       "    </tr>\n",
       "  </thead>\n",
       "  <tbody>\n",
       "    <tr>\n",
       "      <th>0</th>\n",
       "      <td>2022-04-06 00:00:00+00:00</td>\n",
       "      <td>636</td>\n",
       "      <td>92.50.154.90</td>\n",
       "      <td>224.0.0.252</td>\n",
       "      <td>12</td>\n",
       "      <td>64635</td>\n",
       "      <td>5355</td>\n",
       "      <td>4</td>\n",
       "      <td>17</td>\n",
       "    </tr>\n",
       "    <tr>\n",
       "      <th>1</th>\n",
       "      <td>2022-04-06 00:00:00+00:00</td>\n",
       "      <td>13227</td>\n",
       "      <td>10.0.109.16</td>\n",
       "      <td>10.0.26.100</td>\n",
       "      <td>65</td>\n",
       "      <td>50416</td>\n",
       "      <td>389</td>\n",
       "      <td>4</td>\n",
       "      <td>6</td>\n",
       "    </tr>\n",
       "    <tr>\n",
       "      <th>2</th>\n",
       "      <td>2022-04-06 00:00:00+00:00</td>\n",
       "      <td>17983</td>\n",
       "      <td>10.0.109.1</td>\n",
       "      <td>10.0.109.184</td>\n",
       "      <td>34</td>\n",
       "      <td>55777</td>\n",
       "      <td>56522</td>\n",
       "      <td>4</td>\n",
       "      <td>17</td>\n",
       "    </tr>\n",
       "    <tr>\n",
       "      <th>3</th>\n",
       "      <td>2022-04-06 00:00:00+00:00</td>\n",
       "      <td>33493</td>\n",
       "      <td>10.0.109.75</td>\n",
       "      <td>10.0.109.1</td>\n",
       "      <td>72</td>\n",
       "      <td>51850</td>\n",
       "      <td>55777</td>\n",
       "      <td>4</td>\n",
       "      <td>17</td>\n",
       "    </tr>\n",
       "    <tr>\n",
       "      <th>4</th>\n",
       "      <td>2022-04-06 00:00:00+00:00</td>\n",
       "      <td>108</td>\n",
       "      <td>10.0.109.152</td>\n",
       "      <td>91.244.183.103</td>\n",
       "      <td>1</td>\n",
       "      <td>55777</td>\n",
       "      <td>55777</td>\n",
       "      <td>4</td>\n",
       "      <td>17</td>\n",
       "    </tr>\n",
       "  </tbody>\n",
       "</table>\n",
       "</div>"
      ],
      "text/plain": [
       "                  timestamp  in_bytes      ipv4_src        ipv4_dst  in_pkts  \\\n",
       "0 2022-04-06 00:00:00+00:00       636  92.50.154.90     224.0.0.252       12   \n",
       "1 2022-04-06 00:00:00+00:00     13227   10.0.109.16     10.0.26.100       65   \n",
       "2 2022-04-06 00:00:00+00:00     17983    10.0.109.1    10.0.109.184       34   \n",
       "3 2022-04-06 00:00:00+00:00     33493   10.0.109.75      10.0.109.1       72   \n",
       "4 2022-04-06 00:00:00+00:00       108  10.0.109.152  91.244.183.103        1   \n",
       "\n",
       "   l4_src_port  l4_dst_port  ip_protocol_version  protocol  \n",
       "0        64635         5355                    4        17  \n",
       "1        50416          389                    4         6  \n",
       "2        55777        56522                    4        17  \n",
       "3        51850        55777                    4        17  \n",
       "4        55777        55777                    4        17  "
      ]
     },
     "execution_count": 3,
     "metadata": {},
     "output_type": "execute_result"
    }
   ],
   "source": [
    "df.head()"
   ]
  },
  {
   "cell_type": "markdown",
   "id": "70338077",
   "metadata": {},
   "source": [
    "Количество данных:"
   ]
  },
  {
   "cell_type": "code",
   "execution_count": 4,
   "id": "a640d6cc",
   "metadata": {},
   "outputs": [
    {
     "data": {
      "text/plain": [
       "4701867"
      ]
     },
     "execution_count": 4,
     "metadata": {},
     "output_type": "execute_result"
    }
   ],
   "source": [
    "len(df)"
   ]
  },
  {
   "cell_type": "markdown",
   "id": "cfc9d6c9",
   "metadata": {},
   "source": [
    "# Поиск аномалий"
   ]
  },
  {
   "cell_type": "markdown",
   "id": "006fdafb",
   "metadata": {},
   "source": [
    "Поиск аномалий алгоритмом DBSCAN - пространственная кластеризация, входные данные - количество трафика"
   ]
  },
  {
   "cell_type": "code",
   "execution_count": 5,
   "id": "64a54304",
   "metadata": {},
   "outputs": [
    {
     "name": "stdout",
     "output_type": "stream",
     "text": [
      "CPU times: total: 8.42 s\n",
      "Wall time: 8.42 s\n"
     ]
    }
   ],
   "source": [
    "%%time\n",
    "eps = 10\n",
    "min_samples = 20\n",
    "strategy='concatenate'\n",
    "DBSCAN_series = clustering.process_data(df, private_ip_set, strategy, eps, min_samples)"
   ]
  },
  {
   "cell_type": "code",
   "execution_count": 6,
   "id": "d5f3e125",
   "metadata": {},
   "outputs": [
    {
     "name": "stdout",
     "output_type": "stream",
     "text": [
      "Anomalies: 64 Aggregated by hour data: 4176\n",
      "Unique IPs: 5\n"
     ]
    }
   ],
   "source": [
    "utilies.print_anomalies(DBSCAN_series)"
   ]
  },
  {
   "cell_type": "markdown",
   "id": "5d047dd3",
   "metadata": {},
   "source": [
    "Поиск аномалий алгоритмом LOF - локальный уровень выброса (по-сути K-mins), входные данные - количество трафика"
   ]
  },
  {
   "cell_type": "code",
   "execution_count": 7,
   "id": "4c477d5e",
   "metadata": {},
   "outputs": [
    {
     "name": "stdout",
     "output_type": "stream",
     "text": [
      "CPU times: total: 8.52 s\n",
      "Wall time: 8.5 s\n"
     ]
    }
   ],
   "source": [
    "%%time\n",
    "n_neighbors = len(df) / 10\n",
    "LOF_series = simple_classifier_utils.process_data(df, n_neighbors)"
   ]
  },
  {
   "cell_type": "code",
   "execution_count": 8,
   "id": "d2b9d828",
   "metadata": {},
   "outputs": [
    {
     "name": "stdout",
     "output_type": "stream",
     "text": [
      "Anomalies: 1037 Aggregated by hour data: 4176\n",
      "Unique IPs: 133\n"
     ]
    }
   ],
   "source": [
    "utilies.print_anomalies(LOF_series)"
   ]
  },
  {
   "cell_type": "markdown",
   "id": "5428410a",
   "metadata": {},
   "source": [
    "Поиск аномалий с помощью модели смешанного гауссова узла GMM:"
   ]
  },
  {
   "cell_type": "code",
   "execution_count": 9,
   "id": "597ee5d3",
   "metadata": {},
   "outputs": [
    {
     "name": "stdout",
     "output_type": "stream",
     "text": [
      "CPU times: total: 1min 52s\n",
      "Wall time: 17.8 s\n"
     ]
    }
   ],
   "source": [
    "%%time\n",
    "n_components = 1\n",
    "n_init = 100\n",
    "random_state = 40\n",
    "treshold = 3\n",
    "strategy='concatenate'\n",
    "gmm_series = gmm.process_data(df, private_ip_set, strategy, treshold, n_components, n_init, random_state)"
   ]
  },
  {
   "cell_type": "code",
   "execution_count": 10,
   "id": "1fb8dc96",
   "metadata": {},
   "outputs": [
    {
     "name": "stdout",
     "output_type": "stream",
     "text": [
      "Anomalies: 216 Aggregated by hour data: 4176\n",
      "Unique IPs: 32\n"
     ]
    }
   ],
   "source": [
    "utilies.print_anomalies(gmm_series)"
   ]
  },
  {
   "cell_type": "markdown",
   "id": "f7fd6f2c",
   "metadata": {},
   "source": [
    "# Результат работы ансамбля алгоритмов"
   ]
  },
  {
   "cell_type": "markdown",
   "id": "c3dad34f",
   "metadata": {},
   "source": [
    "DBSCAN + LOF:"
   ]
  },
  {
   "cell_type": "code",
   "execution_count": 11,
   "id": "c05882c1",
   "metadata": {},
   "outputs": [
    {
     "name": "stdout",
     "output_type": "stream",
     "text": [
      "Anomalies: 8 Aggregated by hour data: 8352\n",
      "Unique IPs: 3\n"
     ]
    },
    {
     "name": "stderr",
     "output_type": "stream",
     "text": [
      "C:\\Users\\osenenko.ale\\Documents\\Projects\\NetFlow\\utilies.py:13: FutureWarning: Comparison of Timestamp with datetime.date is deprecated in order to match the standard library behavior. In a future version these will be considered non-comparable. Use 'ts == pd.Timestamp(date)' or 'ts.date() == date' instead.\n",
      "  x = x * args[0]\n"
     ]
    }
   ],
   "source": [
    "utilies.print_anomalies(DBSCAN_series, LOF_series)"
   ]
  },
  {
   "cell_type": "markdown",
   "id": "6fd3ea9d",
   "metadata": {},
   "source": [
    "DBSCAN + GMM:"
   ]
  },
  {
   "cell_type": "code",
   "execution_count": 12,
   "id": "a3105491",
   "metadata": {},
   "outputs": [
    {
     "name": "stdout",
     "output_type": "stream",
     "text": [
      "Anomalies: 53 Aggregated by hour data: 4176\n",
      "Unique IPs: 5\n"
     ]
    }
   ],
   "source": [
    "utilies.print_anomalies(DBSCAN_series, gmm_series)"
   ]
  },
  {
   "cell_type": "markdown",
   "id": "26db8211",
   "metadata": {},
   "source": [
    "LOF + GMM:"
   ]
  },
  {
   "cell_type": "code",
   "execution_count": 13,
   "id": "e9e02fe4",
   "metadata": {},
   "outputs": [
    {
     "name": "stdout",
     "output_type": "stream",
     "text": [
      "Anomalies: 144 Aggregated by hour data: 8352\n",
      "Unique IPs: 26\n"
     ]
    },
    {
     "name": "stderr",
     "output_type": "stream",
     "text": [
      "C:\\Users\\osenenko.ale\\Documents\\Projects\\NetFlow\\utilies.py:13: FutureWarning: Comparison of Timestamp with datetime.date is deprecated in order to match the standard library behavior. In a future version these will be considered non-comparable. Use 'ts == pd.Timestamp(date)' or 'ts.date() == date' instead.\n",
      "  x = x * args[0]\n"
     ]
    }
   ],
   "source": [
    "utilies.print_anomalies(LOF_series, gmm_series)"
   ]
  },
  {
   "cell_type": "markdown",
   "id": "d2814697",
   "metadata": {},
   "source": [
    "Визуализация аномалий алгоритма DBSCAN трафика за неделю с помощью t-SNE ( t-распределенное стохастическое соседнее вложение для неаномального и аномального трафика):"
   ]
  },
  {
   "cell_type": "code",
   "execution_count": 14,
   "id": "8ccacc25",
   "metadata": {},
   "outputs": [
    {
     "name": "stdout",
     "output_type": "stream",
     "text": [
      "anomalies: ['10.0.109.125' '10.0.109.1' '10.0.109.16' '10.0.159.5']\n"
     ]
    },
    {
     "data": {
      "image/png": "[encoded data removed]",
      "text/plain": [
       "<Figure size 1200x1200 with 1 Axes>"
      ]
     },
     "metadata": {},
     "output_type": "display_data"
    }
   ],
   "source": [
    "clustering.tsne_visualization(df, private_ip_set, strategy='concatenate', eps=5, min_samples=10)"
   ]
  },
  {
   "cell_type": "code",
   "execution_count": null,
   "id": "446313bd",
   "metadata": {},
   "outputs": [],
   "source": []
  }
 ],
 "metadata": {
  "kernelspec": {
   "display_name": "Python 3 (ipykernel)",
   "language": "python",
   "name": "python3"
  },
  "language_info": {
   "codemirror_mode": {
    "name": "ipython",
    "version": 3
   },
   "file_extension": ".py",
   "mimetype": "text/x-python",
   "name": "python",
   "nbconvert_exporter": "python",
   "pygments_lexer": "ipython3",
   "version": "3.11.0"
  }
 },
 "nbformat": 4,
 "nbformat_minor": 5
}
