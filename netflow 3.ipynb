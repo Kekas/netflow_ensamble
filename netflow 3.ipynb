{
 "cells": [
  {
   "cell_type": "code",
   "execution_count": 1,
   "id": "2eefb4b8",
   "metadata": {},
   "outputs": [],
   "source": [
    "%load_ext autoreload\n",
    "%autoreload 2\n",
    "\n",
    "import pandas as pd\n",
    "import clustering_based_anomaly_detection as clustering\n",
    "import GMM_based_anomaly_detection as gmm\n",
    "import sketch_based_anomaly_detection as sketch\n",
    "import simple_classifier_utils\n",
    "import utilies\n",
    "from IPython.display import HTML, display\n",
    "from tabulate import tabulate"
   ]
  },
  {
   "cell_type": "markdown",
   "id": "80db744c",
   "metadata": {},
   "source": [
    "Загружаем тестовые данные. В данном примере были отобраны тестовые данные трафика netflow за неделю."
   ]
  },
  {
   "cell_type": "code",
   "execution_count": 2,
   "id": "dc49014a",
   "metadata": {},
   "outputs": [],
   "source": [
    "ES_DATA_PATH = 'dataset/'\n",
    "ES_DATA_FILE = '2022-04-06_day'\n",
    "df = pd.read_csv(ES_DATA_PATH + ES_DATA_FILE + '.csv', index_col=0)\n",
    "private_ip_set = utilies.get_private_ips(df)\n",
    "df.timestamp = pd.to_datetime(df.timestamp)"
   ]
  },
  {
   "cell_type": "markdown",
   "id": "97f995a7",
   "metadata": {},
   "source": [
    "Пример формата входных данных:"
   ]
  },
  {
   "cell_type": "code",
   "execution_count": 3,
   "id": "4574c439",
   "metadata": {},
   "outputs": [
    {
     "data": {
      "text/html": [
       "<div>\n",
       "<style scoped>\n",
       "    .dataframe tbody tr th:only-of-type {\n",
       "        vertical-align: middle;\n",
       "    }\n",
       "\n",
       "    .dataframe tbody tr th {\n",
       "        vertical-align: top;\n",
       "    }\n",
       "\n",
       "    .dataframe thead th {\n",
       "        text-align: right;\n",
       "    }\n",
       "</style>\n",
       "<table border=\"1\" class=\"dataframe\">\n",
       "  <thead>\n",
       "    <tr style=\"text-align: right;\">\n",
       "      <th></th>\n",
       "      <th>timestamp</th>\n",
       "      <th>in_bytes</th>\n",
       "      <th>ipv4_src</th>\n",
       "      <th>ipv4_dst</th>\n",
       "      <th>in_pkts</th>\n",
       "      <th>l4_src_port</th>\n",
       "      <th>l4_dst_port</th>\n",
       "      <th>ip_protocol_version</th>\n",
       "      <th>protocol</th>\n",
       "    </tr>\n",
       "  </thead>\n",
       "  <tbody>\n",
       "    <tr>\n",
       "      <th>0</th>\n",
       "      <td>2022-04-06 00:00:00+00:00</td>\n",
       "      <td>636</td>\n",
       "      <td>92.50.154.90</td>\n",
       "      <td>224.0.0.252</td>\n",
       "      <td>12</td>\n",
       "      <td>64635</td>\n",
       "      <td>5355</td>\n",
       "      <td>4</td>\n",
       "      <td>17</td>\n",
       "    </tr>\n",
       "    <tr>\n",
       "      <th>1</th>\n",
       "      <td>2022-04-06 00:00:00+00:00</td>\n",
       "      <td>13227</td>\n",
       "      <td>10.0.109.16</td>\n",
       "      <td>10.0.26.100</td>\n",
       "      <td>65</td>\n",
       "      <td>50416</td>\n",
       "      <td>389</td>\n",
       "      <td>4</td>\n",
       "      <td>6</td>\n",
       "    </tr>\n",
       "    <tr>\n",
       "      <th>2</th>\n",
       "      <td>2022-04-06 00:00:00+00:00</td>\n",
       "      <td>17983</td>\n",
       "      <td>10.0.109.1</td>\n",
       "      <td>10.0.109.184</td>\n",
       "      <td>34</td>\n",
       "      <td>55777</td>\n",
       "      <td>56522</td>\n",
       "      <td>4</td>\n",
       "      <td>17</td>\n",
       "    </tr>\n",
       "    <tr>\n",
       "      <th>3</th>\n",
       "      <td>2022-04-06 00:00:00+00:00</td>\n",
       "      <td>33493</td>\n",
       "      <td>10.0.109.75</td>\n",
       "      <td>10.0.109.1</td>\n",
       "      <td>72</td>\n",
       "      <td>51850</td>\n",
       "      <td>55777</td>\n",
       "      <td>4</td>\n",
       "      <td>17</td>\n",
       "    </tr>\n",
       "    <tr>\n",
       "      <th>4</th>\n",
       "      <td>2022-04-06 00:00:00+00:00</td>\n",
       "      <td>108</td>\n",
       "      <td>10.0.109.152</td>\n",
       "      <td>91.244.183.103</td>\n",
       "      <td>1</td>\n",
       "      <td>55777</td>\n",
       "      <td>55777</td>\n",
       "      <td>4</td>\n",
       "      <td>17</td>\n",
       "    </tr>\n",
       "  </tbody>\n",
       "</table>\n",
       "</div>"
      ],
      "text/plain": [
       "                  timestamp  in_bytes      ipv4_src        ipv4_dst  in_pkts  \\\n",
       "0 2022-04-06 00:00:00+00:00       636  92.50.154.90     224.0.0.252       12   \n",
       "1 2022-04-06 00:00:00+00:00     13227   10.0.109.16     10.0.26.100       65   \n",
       "2 2022-04-06 00:00:00+00:00     17983    10.0.109.1    10.0.109.184       34   \n",
       "3 2022-04-06 00:00:00+00:00     33493   10.0.109.75      10.0.109.1       72   \n",
       "4 2022-04-06 00:00:00+00:00       108  10.0.109.152  91.244.183.103        1   \n",
       "\n",
       "   l4_src_port  l4_dst_port  ip_protocol_version  protocol  \n",
       "0        64635         5355                    4        17  \n",
       "1        50416          389                    4         6  \n",
       "2        55777        56522                    4        17  \n",
       "3        51850        55777                    4        17  \n",
       "4        55777        55777                    4        17  "
      ]
     },
     "execution_count": 3,
     "metadata": {},
     "output_type": "execute_result"
    }
   ],
   "source": [
    "df.head()"
   ]
  },
  {
   "cell_type": "markdown",
   "id": "2dbef8a7",
   "metadata": {},
   "source": [
    "Количество данных:"
   ]
  },
  {
   "cell_type": "code",
   "execution_count": 4,
   "id": "ebeaa5d3",
   "metadata": {},
   "outputs": [
    {
     "data": {
      "text/plain": [
       "4701867"
      ]
     },
     "execution_count": 4,
     "metadata": {},
     "output_type": "execute_result"
    }
   ],
   "source": [
    "len(df)"
   ]
  },
  {
   "cell_type": "markdown",
   "id": "182cf6e1",
   "metadata": {},
   "source": [
    "# Поиск аномалий"
   ]
  },
  {
   "cell_type": "markdown",
   "id": "1da603e5",
   "metadata": {},
   "source": [
    "Поиск аномалий алгоритмом DBSCAN - пространственная кластеризация, входные данные - количество трафика"
   ]
  },
  {
   "cell_type": "code",
   "execution_count": 5,
   "id": "ac086bb5",
   "metadata": {},
   "outputs": [
    {
     "name": "stdout",
     "output_type": "stream",
     "text": [
      "CPU times: total: 8.28 s\n",
      "Wall time: 8.27 s\n"
     ]
    }
   ],
   "source": [
    "%%time\n",
    "eps = 10\n",
    "min_samples = 20\n",
    "strategy='concatenate'\n",
    "DBSCAN_series = clustering.process_data(df, private_ip_set, strategy, eps, min_samples)"
   ]
  },
  {
   "cell_type": "code",
   "execution_count": 6,
   "id": "8e49380b",
   "metadata": {},
   "outputs": [
    {
     "name": "stdout",
     "output_type": "stream",
     "text": [
      "Anomalies: 64 Aggregated by hour data: 4176\n",
      "Unique IPs: 5\n",
      "10.0.109.125\n",
      "10.0.159.5\n",
      "10.0.109.50\n",
      "10.0.109.1\n",
      "10.0.109.16\n"
     ]
    }
   ],
   "source": [
    "utilies.print_anomalies(DBSCAN_series)"
   ]
  },
  {
   "cell_type": "markdown",
   "id": "aabe394c",
   "metadata": {},
   "source": [
    "Поиск аномалий алгоритмом LOF - локальный уровень выброса (по-сути K-mins), входные данные - количество трафика"
   ]
  },
  {
   "cell_type": "code",
   "execution_count": 7,
   "id": "1838d48f",
   "metadata": {},
   "outputs": [
    {
     "name": "stdout",
     "output_type": "stream",
     "text": [
      "CPU times: total: 8.47 s\n",
      "Wall time: 8.45 s\n"
     ]
    }
   ],
   "source": [
    "%%time\n",
    "n_neighbors = len(df) / 10\n",
    "LOF_series = simple_classifier_utils.process_data(df, n_neighbors)"
   ]
  },
  {
   "cell_type": "code",
   "execution_count": 8,
   "id": "66c36f5a",
   "metadata": {},
   "outputs": [
    {
     "name": "stdout",
     "output_type": "stream",
     "text": [
      "Anomalies: 1037 Aggregated by hour data: 4176\n",
      "Unique IPs: 133\n",
      "10.0.109.72\n",
      "10.0.109.143\n",
      "10.0.24.218\n",
      "10.0.109.60\n",
      "10.0.109.100\n",
      "10.0.109.158\n",
      "10.0.109.168\n",
      "10.0.109.69\n",
      "10.0.109.40\n",
      "10.0.109.113\n",
      "10.0.109.99\n",
      "10.0.109.123\n",
      "10.0.109.121\n",
      "10.0.109.135\n",
      "10.0.109.101\n",
      "10.0.109.162\n",
      "10.0.109.129\n",
      "10.0.109.79\n",
      "10.0.109.36\n",
      "10.0.109.85\n",
      "10.0.109.109\n",
      "169.254.53.138\n",
      "10.0.109.62\n",
      "10.0.109.182\n",
      "10.0.26.100\n",
      "10.0.109.203\n",
      "10.0.109.193\n",
      "10.0.109.205\n",
      "10.0.109.157\n",
      "10.0.109.194\n",
      "10.0.109.43\n",
      "10.0.109.159\n",
      "10.0.109.124\n",
      "10.0.109.146\n",
      "10.0.109.9\n",
      "10.0.109.204\n",
      "10.0.109.149\n",
      "10.0.109.178\n",
      "10.0.109.96\n",
      "10.0.26.101\n",
      "10.0.116.5\n",
      "10.0.109.52\n",
      "10.0.109.183\n",
      "10.0.109.75\n",
      "10.0.109.112\n",
      "10.0.159.5\n",
      "10.0.109.161\n",
      "10.0.109.132\n",
      "10.0.109.128\n",
      "10.0.109.152\n",
      "10.0.109.188\n",
      "10.0.109.150\n",
      "10.0.109.127\n",
      "10.0.7.61\n",
      "10.0.109.210\n",
      "10.0.7.32\n",
      "10.0.109.7\n",
      "10.0.109.108\n",
      "10.0.109.76\n",
      "10.0.159.9\n",
      "10.0.109.133\n",
      "10.0.4.70\n",
      "10.0.109.175\n",
      "10.0.109.174\n",
      "10.0.109.187\n",
      "10.0.109.125\n",
      "10.0.109.184\n",
      "10.0.109.164\n",
      "10.0.109.179\n",
      "10.0.109.163\n",
      "10.0.109.71\n",
      "10.0.109.153\n",
      "10.0.109.103\n",
      "10.0.109.61\n",
      "10.0.109.192\n",
      "10.0.109.172\n",
      "10.0.109.81\n",
      "10.0.109.118\n",
      "10.0.109.63\n",
      "10.0.109.130\n",
      "10.0.109.116\n",
      "10.0.109.114\n",
      "10.0.109.176\n",
      "10.0.109.120\n",
      "10.0.109.173\n",
      "10.0.109.29\n",
      "10.0.109.191\n",
      "10.0.109.102\n",
      "10.0.109.58\n",
      "10.0.109.1\n",
      "10.0.109.155\n",
      "10.0.109.38\n",
      "10.0.7.36\n",
      "10.0.109.169\n",
      "10.0.109.131\n",
      "10.0.109.166\n",
      "10.0.109.2\n",
      "10.0.109.137\n",
      "10.0.109.53\n",
      "169.254.85.202\n",
      "10.0.109.145\n",
      "10.0.109.59\n",
      "10.0.109.66\n",
      "10.0.109.185\n",
      "192.168.20.2\n",
      "10.0.109.144\n",
      "10.0.109.74\n",
      "10.0.109.171\n",
      "10.0.109.106\n",
      "10.0.109.67\n",
      "10.0.109.186\n",
      "10.0.109.160\n",
      "10.0.109.51\n",
      "10.0.109.189\n",
      "10.0.106.5\n",
      "10.0.109.57\n",
      "10.0.109.122\n",
      "10.0.109.119\n",
      "10.0.109.4\n",
      "10.0.109.89\n",
      "10.0.109.83\n",
      "10.0.109.207\n",
      "10.0.109.110\n",
      "10.0.109.70\n",
      "10.0.109.105\n",
      "10.0.109.115\n",
      "10.0.109.39\n",
      "10.0.109.206\n",
      "10.0.109.65\n",
      "10.0.109.41\n",
      "10.0.109.50\n",
      "10.0.109.167\n",
      "10.0.109.111\n"
     ]
    }
   ],
   "source": [
    "utilies.print_anomalies(LOF_series)"
   ]
  },
  {
   "cell_type": "markdown",
   "id": "b24b8e3c",
   "metadata": {},
   "source": [
    "Поиск аномалий с помощью модели смешанного гауссова узла GMM:"
   ]
  },
  {
   "cell_type": "code",
   "execution_count": null,
   "id": "11357c0c",
   "metadata": {},
   "outputs": [],
   "source": [
    "%%time\n",
    "n_components = 1\n",
    "n_init = 100\n",
    "random_state = 40\n",
    "treshold = 3\n",
    "strategy='concatenate'\n",
    "gmm_series = gmm.process_data(df, private_ip_set, strategy, treshold, n_components, n_init, random_state)"
   ]
  },
  {
   "cell_type": "code",
   "execution_count": null,
   "id": "41b2878e",
   "metadata": {},
   "outputs": [],
   "source": [
    "utilies.print_anomalies(gmm_series)"
   ]
  },
  {
   "cell_type": "markdown",
   "id": "80a25365",
   "metadata": {},
   "source": [
    "# Результат работы ансамбля алгоритмов"
   ]
  },
  {
   "cell_type": "markdown",
   "id": "99fcc76e",
   "metadata": {},
   "source": [
    "DBSCAN + LOF:"
   ]
  },
  {
   "cell_type": "code",
   "execution_count": null,
   "id": "8a66ad99",
   "metadata": {},
   "outputs": [],
   "source": [
    "utilies.print_anomalies(DBSCAN_series, LOF_series)"
   ]
  },
  {
   "cell_type": "markdown",
   "id": "26a4a0bf",
   "metadata": {},
   "source": [
    "DBSCAN + GMM:"
   ]
  },
  {
   "cell_type": "code",
   "execution_count": null,
   "id": "a057f201",
   "metadata": {},
   "outputs": [],
   "source": [
    "utilies.print_anomalies(DBSCAN_series, gmm_series)"
   ]
  },
  {
   "cell_type": "markdown",
   "id": "d2763682",
   "metadata": {},
   "source": [
    "LOF + GMM:"
   ]
  },
  {
   "cell_type": "code",
   "execution_count": null,
   "id": "417983eb",
   "metadata": {},
   "outputs": [],
   "source": [
    "utilies.print_anomalies(LOF_series, gmm_series)"
   ]
  },
  {
   "cell_type": "markdown",
   "id": "5c3ca5ae",
   "metadata": {},
   "source": [
    "Визуализация аномалий алгоритма DBSCAN трафика за неделю с помощью t-SNE ( t-распределенное стохастическое соседнее вложение для неаномального и аномального трафика):"
   ]
  },
  {
   "cell_type": "code",
   "execution_count": null,
   "id": "a890b6b8",
   "metadata": {},
   "outputs": [],
   "source": [
    "clustering.tsne_visualization(df, private_ip_set, strategy='concatenate', eps=5, min_samples=10)"
   ]
  },
  {
   "cell_type": "code",
   "execution_count": null,
   "id": "1a05869c",
   "metadata": {},
   "outputs": [],
   "source": []
  }
 ],
 "metadata": {
  "kernelspec": {
   "display_name": "Python 3 (ipykernel)",
   "language": "python",
   "name": "python3"
  },
  "language_info": {
   "codemirror_mode": {
    "name": "ipython",
    "version": 3
   },
   "file_extension": ".py",
   "mimetype": "text/x-python",
   "name": "python",
   "nbconvert_exporter": "python",
   "pygments_lexer": "ipython3",
   "version": "3.11.0"
  }
 },
 "nbformat": 4,
 "nbformat_minor": 5
}
